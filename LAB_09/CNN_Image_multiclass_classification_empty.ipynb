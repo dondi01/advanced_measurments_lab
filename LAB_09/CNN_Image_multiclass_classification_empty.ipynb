{
  "cells": [
    {
      "cell_type": "code",
      "execution_count": null,
      "metadata": {
        "id": "GWTpuUEpdgqZ"
      },
      "outputs": [],
      "source": [
        "import tensorflow as tf\n",
        "import matplotlib.pyplot as plt\n",
        "import numpy as np"
      ]
    },
    {
      "cell_type": "markdown",
      "metadata": {
        "id": "EJJ68zaqDPl8"
      },
      "source": [
        "Import CIFAR dataset"
      ]
    },
    {
      "cell_type": "code",
      "execution_count": null,
      "metadata": {
        "colab": {
          "base_uri": "https://localhost:8080/"
        },
        "id": "nClXbLwgdj5k",
        "outputId": "8ded139d-5f06-41c2-9b96-c05ece7421cf"
      },
      "outputs": [],
      "source": [
        "(x_train, y_train), (x_test, y_test) = tf.keras.datasets.cifar10.load_data()\n",
        "y_train = y_train[:,0]\n",
        "y_test = y_test[:,0]"
      ]
    },
    {
      "cell_type": "markdown",
      "metadata": {
        "id": "Q6cI_lIBDbmP"
      },
      "source": [
        "Visualize dataset dimension"
      ]
    },
    {
      "cell_type": "code",
      "execution_count": null,
      "metadata": {
        "colab": {
          "base_uri": "https://localhost:8080/"
        },
        "id": "ewyBEyK-DZi5",
        "outputId": "c5b818bc-edda-4455-f7da-d72485e6414d"
      },
      "outputs": [],
      "source": [
        "print(\"x_train array shape: \", x_train.shape)\n",
        "print(\"y_train array shape: \", y_train.shape)\n",
        "print(\"x_test array shape: \", x_test.shape)\n",
        "print(\"y_test array shape: \", y_test.shape)\n"
      ]
    },
    {
      "cell_type": "markdown",
      "metadata": {
        "id": "20mxix6ZDk16"
      },
      "source": [
        "Visualize some images in the dataset and their label"
      ]
    },
    {
      "cell_type": "code",
      "execution_count": null,
      "metadata": {
        "colab": {
          "base_uri": "https://localhost:8080/",
          "height": 428
        },
        "id": "-BlzIgbIDrb7",
        "outputId": "b878a2c1-f108-4395-ccce-e7daa809254a"
      },
      "outputs": [],
      "source": [
        "labels = [\"airplane\", \"automobile\", \"bird\", \"cat\", \"deer\", \"dog\", \"frog\", \"horse\", \"ship\", \"truck\"]\n",
        "for i in range(9):\n",
        "  plt.subplot(3,3,i+1)\n",
        "  plt.imshow(x_train[i])\n",
        "  plt.title(labels[int(y_train[i])])\n",
        "  plt.axis(\"off\")\n",
        "plt.show()"
      ]
    },
    {
      "cell_type": "markdown",
      "metadata": {
        "id": "jtY-k2RYiH9e"
      },
      "source": [
        "Divide the dataset to obtain 3 sets: x_t (data used for train), x_val (data used for validation), x_test (data used for test).\n",
        "\n",
        "The labels for these data are stored in y_t, y_val, y_test."
      ]
    },
    {
      "cell_type": "code",
      "execution_count": null,
      "metadata": {
        "colab": {
          "base_uri": "https://localhost:8080/"
        },
        "id": "GyAwekA5drLq",
        "outputId": "e343332a-6e85-4041-bf86-8d9bf74a3496"
      },
      "outputs": [],
      "source": [
        "x_t = x_train[:int(0.8*x_train.shape[0]),:]\n",
        "y_t = y_train[:int(0.8*y_train.shape[0])]\n",
        "x_val = x_train[int(0.8*x_train.shape[0]):,:]\n",
        "y_val = y_train[int(0.8*y_train.shape[0]):]\n",
        "\n",
        "print('x_train shape: ', x_t.shape)\n",
        "print('y_train shape: ', y_t.shape)\n",
        "print('x_val shape: ', x_val.shape)\n",
        "print('y_val shape: ', y_val.shape)"
      ]
    },
    {
      "cell_type": "markdown",
      "metadata": {
        "id": "gpQG6qoGiH9e"
      },
      "source": [
        "Normalize input data"
      ]
    },
    {
      "cell_type": "code",
      "execution_count": null,
      "metadata": {
        "id": "6RFYUlA-DYsD"
      },
      "outputs": [],
      "source": [
        "x_t = \n",
        "x_val =\n",
        "x_test ="
      ]
    },
    {
      "cell_type": "markdown",
      "metadata": {
        "id": "eDYK7QltiH9f"
      },
      "source": [
        "Definition of the model. Since we are using convolutional layers, this network is called Convolutional Neural Network (CNN)"
      ]
    },
    {
      "cell_type": "code",
      "execution_count": null,
      "metadata": {
        "colab": {
          "base_uri": "https://localhost:8080/",
          "height": 531
        },
        "id": "obwZdsmNMDEX",
        "outputId": "c50de052-1d3f-4c1a-d4f5-4c73ccfe40a9"
      },
      "outputs": [],
      "source": [
        "model = tf.keras.models.Sequential([\n",
        "    tf.keras.layers.Conv2D(filters=32, kernel_size=(5, 5), activation='', input_shape=(32,32,3), name='C0'),  # to complete\n",
        "    tf.keras.layers.MaxPooling2D(pool_size=(2, 2), strides=(2, 2), name='MP0'),\n",
        "    tf.keras.layers.BatchNormalization(name='BN0'),\n",
        "    tf.keras.layers.Conv2D(filters=, kernel_size=(), activation= '', name='C1'),  # to complete\n",
        "    tf.keras.layers.Conv2D(filters=, kernel_size=(), activation='', name='C2'),  # to complete\n",
        "    tf.keras.layers.MaxPooling2D(pool_size=(), strides=(), name='MP2'),  # to complete\n",
        "    tf.keras.layers.BatchNormalization(name='BN2'),\n",
        "    tf.keras.layers.Flatten(name='F2'),\n",
        "    tf.keras.layers.Dense(256, activation='', name='D2'),  # to complete\n",
        "    tf.keras.layers.Dense(10, activation=\"softmax\", name='D3')])\n",
        "model.summary()\n"
      ]
    },
    {
      "cell_type": "code",
      "execution_count": null,
      "metadata": {
        "id": "vjQOj2f0FqXv"
      },
      "outputs": [],
      "source": [
        "\n",
        "model.compile(loss = tf.keras.losses.SparseCategoricalCrossentropy(),\n",
        "              optimizer = tf.keras.optimizers.Adam(learning_rate=0.01),\n",
        "              metrics=['accuracy'])\n"
      ]
    },
    {
      "cell_type": "markdown",
      "metadata": {
        "id": "4N00NspGiH9f"
      },
      "source": [
        "Train the model"
      ]
    },
    {
      "cell_type": "code",
      "execution_count": null,
      "metadata": {
        "colab": {
          "base_uri": "https://localhost:8080/"
        },
        "id": "tg850m1SGsTs",
        "outputId": "1d9943ae-a2ef-46a2-83f9-91a13a9b3ee5"
      },
      "outputs": [],
      "source": [
        "model.fit(,\n",
        "          ,\n",
        "          epochs=,\n",
        "          batch_size=16,\n",
        "          validation_data=(,)\n",
        "          )"
      ]
    },
    {
      "cell_type": "markdown",
      "metadata": {
        "id": "1GeuGvSAiH9f"
      },
      "source": [
        "Evaluate performances and show the confusion matrix."
      ]
    },
    {
      "cell_type": "code",
      "execution_count": null,
      "metadata": {
        "colab": {
          "base_uri": "https://localhost:8080/",
          "height": 879
        },
        "id": "pNoikQumQ6GT",
        "outputId": "d61d43ad-7699-4920-c280-d4e31b13b561"
      },
      "outputs": [],
      "source": [
        "from sklearn.metrics import ConfusionMatrixDisplay\n",
        "from sklearn.metrics import confusion_matrix\n",
        "\n",
        "evaluation = model.evaluate(x_test, y_test)\n",
        "\n",
        "y_pred = model.predict(x_test)\n",
        "y_pred = np.argmax(y_pred, axis=1)\n",
        "cm = confusion_matrix(y_test, y_pred)\n",
        "\n",
        "disp = ConfusionMatrixDisplay(confusion_matrix=cm, display_labels=labels)\n",
        "fig, ax = plt.subplots(figsize=(10, 10))\n",
        "disp = disp.plot(xticks_rotation='vertical', ax=ax,cmap='summer')\n",
        "plt.show()"
      ]
    }
  ],
  "metadata": {
    "colab": {
      "provenance": []
    },
    "kernelspec": {
      "display_name": "Python 3",
      "name": "python3"
    },
    "language_info": {
      "codemirror_mode": {
        "name": "ipython",
        "version": 3
      },
      "file_extension": ".py",
      "mimetype": "text/x-python",
      "name": "python",
      "nbconvert_exporter": "python",
      "pygments_lexer": "ipython3",
      "version": "3.11.4"
    }
  },
  "nbformat": 4,
  "nbformat_minor": 0
}
