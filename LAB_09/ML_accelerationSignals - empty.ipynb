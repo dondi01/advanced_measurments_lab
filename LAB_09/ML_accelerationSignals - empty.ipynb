{
  "cells": [
    {
      "cell_type": "code",
      "execution_count": null,
      "metadata": {
        "id": "SNvQ2hRABVFQ"
      },
      "outputs": [],
      "source": [
        "import numpy as np\n",
        "import matplotlib.pyplot as plt\n",
        "import scipy.stats as sc\n",
        "from sklearn import svm, neighbors, metrics\n",
        "from sklearn.decomposition import PCA\n",
        "import plotly.graph_objects as go"
      ]
    },
    {
      "cell_type": "code",
      "execution_count": null,
      "metadata": {
        "id": "yl4EXNdQCmi-"
      },
      "outputs": [],
      "source": [
        "ClassA_csv=\"/content/classA2.csv\"\n",
        "ClassB_csv=\"/content/classB2.csv\""
      ]
    },
    {
      "cell_type": "markdown",
      "metadata": {
        "id": "KuoJWIeoCbc2"
      },
      "source": [
        "LOAD THE FILES AND PRINT DIMENSIONS"
      ]
    },
    {
      "cell_type": "code",
      "execution_count": null,
      "metadata": {
        "colab": {
          "base_uri": "https://localhost:8080/"
        },
        "id": "xcaQWiWqCae-",
        "outputId": "a9c1fbd6-c67b-40c5-ec5c-cd16f14112c6"
      },
      "outputs": [],
      "source": [
        "signalsA= np.loadtxt(ClassA_csv, delimiter=\";\", skiprows=0)\n",
        "print(\"Signal dataset A shape: \"+ str(signalsA.shape))\n",
        "signalsB= np.loadtxt(ClassB_csv, delimiter=\";\", skiprows=0)\n",
        "print(\"Signal dataset B shape: \"+ str(signalsB.shape))"
      ]
    },
    {
      "cell_type": "markdown",
      "metadata": {
        "id": "sxdYQ8mVCYPe"
      },
      "source": [
        "PLOT SOME SIGNAL FROM EACH CLASS"
      ]
    },
    {
      "cell_type": "code",
      "execution_count": null,
      "metadata": {
        "colab": {
          "base_uri": "https://localhost:8080/",
          "height": 452
        },
        "id": "CahDC75PCWde",
        "outputId": "f67e23a8-0648-442b-ebf4-67e4e144d43b"
      },
      "outputs": [],
      "source": [
        "plt.subplot(2,1,1)\n",
        "plt.plot(signalsA[0])\n",
        "plt.plot(signalsA[1])\n",
        "plt.plot(signalsA[2])\n",
        "plt.title(\"Example of class A signal\")\n",
        "plt.subplot(2,1,2)\n",
        "plt.plot(signalsB[0])\n",
        "plt.plot(signalsB[1])\n",
        "plt.plot(signalsB[2])\n",
        "plt.title(\"Example of class B signal\")\n",
        "plt.show()"
      ]
    },
    {
      "cell_type": "markdown",
      "metadata": {
        "id": "FNwZb8FXCTc6"
      },
      "source": [
        "EXTRACT FEATURES FROM THE SIGNALS A"
      ]
    },
    {
      "cell_type": "code",
      "execution_count": null,
      "metadata": {
        "colab": {
          "base_uri": "https://localhost:8080/",
          "height": 106
        },
        "id": "W2gwkC_KCQ5K",
        "outputId": "0a17dbdc-da07-4e4a-c11a-f9e95c3e196c"
      },
      "outputs": [],
      "source": [
        "datasetA=[]\n",
        "for signal in signalsA:\n",
        "    mean=\n",
        "    max=\n",
        "    kur=\n",
        "    #min =\n",
        "    #rms=\n",
        "    #std=\n",
        "    #skw=                      #  <-- compute features\n",
        "    features_SignalA=[,,, 0]\n",
        "    datasetA.append(features_SignalA)"
      ]
    },
    {
      "cell_type": "markdown",
      "metadata": {
        "id": "eFE3fRBzCOHy"
      },
      "source": [
        "EXTRACT FEATURES FROM THE SIGNALS B"
      ]
    },
    {
      "cell_type": "code",
      "execution_count": null,
      "metadata": {
        "id": "Mtvh-uE5CKn6"
      },
      "outputs": [],
      "source": [
        "datasetB=[]\n",
        "for signal in signalsB:\n",
        "                         #  <-- compute features\n",
        "    features_SignalB=[,,, 1]\n",
        "    datasetB.append(features_SignalB)"
      ]
    },
    {
      "cell_type": "markdown",
      "metadata": {
        "id": "XTpycAa-CHES"
      },
      "source": [
        "MANAGE DATASET"
      ]
    },
    {
      "cell_type": "code",
      "execution_count": null,
      "metadata": {
        "id": "q96jHcsoCD5i"
      },
      "outputs": [],
      "source": [
        "datasetA=np.array(datasetA)\n",
        "datasetB=np.array(datasetB)\n",
        "np.random.shuffle(datasetA)\n",
        "np.random.shuffle(datasetB)\n",
        "print(\"dataset A shape: \"+ str(datasetA.shape))\n",
        "print(\"dataset B shape: \"+ str(datasetB.shape))\n",
        "\n",
        "dataset=np.concatenate((datasetA,datasetB))\n",
        "np.random.shuffle(dataset)\n",
        "print(\"TOTAL dataset shape: \"+ str(dataset.shape))\n",
        "\n",
        "X = dataset[:,:-1]                          #  <-- Extract variable\n",
        "Y = dataset[:,-1]                          #  <-- Extract class"
      ]
    },
    {
      "cell_type": "markdown",
      "metadata": {
        "id": "ejCGYUuECBCh"
      },
      "source": [
        "NORMALIZE"
      ]
    },
    {
      "cell_type": "code",
      "execution_count": null,
      "metadata": {
        "id": "c65FcAY_CAMS"
      },
      "outputs": [],
      "source": [
        "mean = X.mean(axis=0)\n",
        "X=X-mean\n",
        "std = X.std(axis=0)\n",
        "X=X/std\n",
        "\n",
        "print(\"Variables dataset shape: \"+ str(X.shape))"
      ]
    },
    {
      "cell_type": "markdown",
      "metadata": {
        "id": "G4kmP5xgB9zL"
      },
      "source": [
        "divide the dataset into a training and validation subset"
      ]
    },
    {
      "cell_type": "code",
      "execution_count": null,
      "metadata": {
        "id": "kh0LoGxLB8Mq"
      },
      "outputs": [],
      "source": [
        "Xtrain=X[0:2000]\n",
        "Ytrain=Y[0:2000]\n",
        "Xval=X[2000:]\n",
        "Yval=Y[2000:]"
      ]
    },
    {
      "cell_type": "markdown",
      "metadata": {
        "id": "dlos1DFWB30l"
      },
      "source": [
        "USE A SVM ALGORITHM TO CLASSIFY SIGNALS"
      ]
    },
    {
      "cell_type": "code",
      "execution_count": null,
      "metadata": {
        "id": "Yv6ShAX4B2_S"
      },
      "outputs": [],
      "source": [
        "#Create a svm Classifier\n",
        "SVM_Classifier = svm.SVC(kernel='rbf')                                # <--   classifier\n",
        "#Train the model using the training sets\n",
        "SVM_Classifier.fit(Xtrain, Ytrain)                                                  # <--   fit classifier\n",
        "#Validate the system with the validation dataset\n",
        "y_pred = SVM_Classifier.predict(Xval)                                         # <--   predict new samples\n",
        "#print metrics to evaluate performance\n",
        "print(\"SVM Accuracy:\", metrics.accuracy_score(Yval, y_pred))\n",
        "print(\"SVM Recall:\", metrics.recall_score(Yval, y_pred))\n",
        "print(\"SVM Precision:\", metrics.precision_score(Yval, y_pred))\n",
        "#print(y_pred)\n",
        "#print(Yval)"
      ]
    },
    {
      "cell_type": "markdown",
      "metadata": {
        "id": "hSaZt9AqBwlO"
      },
      "source": [
        "SAME THING, BUT USING KNN ALGORITHM"
      ]
    },
    {
      "cell_type": "code",
      "execution_count": null,
      "metadata": {
        "id": "c_Gcen8rBv3W"
      },
      "outputs": [],
      "source": [
        "KNN_Classifier = neighbors.KNeighborsClassifier(5, weights=\"uniform\")\n",
        "KNN_Classifier.fit(Xtrain, Ytrain)\n",
        "y_pred = KNN_Classifier.predict(Xval)\n",
        "print(\"KNN Accuracy:\", metrics.accuracy_score(Yval, y_pred))\n",
        "print(\"KNN Recall:\", metrics.recall_score(Yval,y_pred))\n",
        "print(\"KNN Precision:\", metrics.precision_score(Yval, y_pred))"
      ]
    },
    {
      "cell_type": "markdown",
      "metadata": {
        "id": "IrIcX5bsBtPW"
      },
      "source": [
        "FIGURES"
      ]
    },
    {
      "cell_type": "code",
      "execution_count": null,
      "metadata": {
        "id": "-w6YB4F8GyZB"
      },
      "outputs": [],
      "source": [
        "titles=[\"Mean\", \"Max\", \"Kurtosis\"]\n",
        "f4=plt.figure()\n",
        "for i in range(3):\n",
        "    plt.subplot(2,4,i+1)\n",
        "    plt.plot(datasetA[:,i], c=\"g\")\n",
        "    plt.plot(datasetB[:,i], c=\"r\")\n",
        "    plt.title(titles[i])\n",
        "plt.show()"
      ]
    },
    {
      "cell_type": "code",
      "execution_count": null,
      "metadata": {
        "id": "50MCzA0qBiJX"
      },
      "outputs": [],
      "source": [
        "\"\"\"titles=[\"Mean\", \"Max\", \"Kurtosis\", \"Min\", \"RMS\", \"Std\", \"Skewness\"]\n",
        "f4=plt.figure()\n",
        "for i in range(7):\n",
        "    plt.subplot(2,4,i+1)\n",
        "    plt.plot(datasetA[:,i], c=\"g\")\n",
        "    plt.plot(datasetB[:,i], c=\"r\")\n",
        "    plt.title(titles[i])\n",
        "plt.show()\"\"\""
      ]
    },
    {
      "cell_type": "code",
      "execution_count": null,
      "metadata": {
        "id": "O8Zvne5EBeIO"
      },
      "outputs": [],
      "source": [
        "pca = PCA(n_components=3)\n",
        "principalComponents = pca.fit_transform(X)\n",
        "x1=np.array(principalComponents[:,0])\n",
        "x2=np.array(principalComponents[:,1])\n",
        "x3=np.array(principalComponents[:,2])"
      ]
    },
    {
      "cell_type": "code",
      "execution_count": null,
      "metadata": {
        "id": "0ZvjOHWSBaUG"
      },
      "outputs": [],
      "source": [
        "\"\"\"f5=plt.figure()\n",
        "ax = f5.add_subplot(projection='3d')\n",
        "colori=[\"red\", \"blue\"]\n",
        "for i in range(len(x1)):\n",
        "    ax.scatter(x1[i],x2[i],x3[i],c=colori[int(Y[i])])\n",
        "\n",
        "plt.show()\"\"\""
      ]
    },
    {
      "cell_type": "code",
      "execution_count": null,
      "metadata": {
        "id": "98KIV06GDght"
      },
      "outputs": [],
      "source": [
        "colors = [\"red\", \"blue\"]\n",
        "\n",
        "scatter_data = []\n",
        "\n",
        "for classe in [0, 1]:\n",
        "    indices = [i for i in range(len(Y)) if int(Y[i]) == classe]\n",
        "    scatter_data.append(\n",
        "        go.Scatter3d(\n",
        "            x=[x1[i] for i in indices],\n",
        "            y=[x2[i] for i in indices],\n",
        "            z=[x3[i] for i in indices],\n",
        "            mode='markers',\n",
        "            marker=dict(size=4, color=colors[classe]),\n",
        "            name=f'Class {classe}'\n",
        "        )\n",
        "    )\n",
        "\n",
        "fig = go.Figure(data=scatter_data)\n",
        "fig.show()\n"
      ]
    },
    {
      "cell_type": "markdown",
      "metadata": {},
      "source": [
        "TRY TO INCREASE THE NUMBER OF FEATURES AND COMPARE THE RESULTS"
      ]
    }
  ],
  "metadata": {
    "colab": {
      "provenance": []
    },
    "kernelspec": {
      "display_name": "Python 3",
      "name": "python3"
    },
    "language_info": {
      "name": "python"
    }
  },
  "nbformat": 4,
  "nbformat_minor": 0
}
