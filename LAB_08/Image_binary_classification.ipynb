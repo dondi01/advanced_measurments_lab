{
  "cells": [
    {
      "cell_type": "code",
      "execution_count": 1,
      "metadata": {
        "id": "GWTpuUEpdgqZ"
      },
      "outputs": [],
      "source": [
        "import tensorflow as tf\n",
        "import matplotlib.pyplot as plt\n",
        "import numpy as np"
      ]
    },
    {
      "cell_type": "markdown",
      "metadata": {
        "id": "EJJ68zaqDPl8"
      },
      "source": [
        "Import MNIST dataset"
      ]
    },
    {
      "cell_type": "code",
      "execution_count": 2,
      "metadata": {
        "id": "nClXbLwgdj5k"
      },
      "outputs": [],
      "source": [
        "(x_train, y_train), (x_test, y_test) = tf.keras.datasets.mnist.load_data()"
      ]
    },
    {
      "cell_type": "markdown",
      "metadata": {
        "id": "Q6cI_lIBDbmP"
      },
      "source": [
        "Show dataset dimension"
      ]
    },
    {
      "cell_type": "code",
      "execution_count": 3,
      "metadata": {
        "colab": {
          "base_uri": "https://localhost:8080/"
        },
        "id": "ewyBEyK-DZi5",
        "outputId": "c40b0c1e-b9d1-4bbc-a042-397d47f1eb21"
      },
      "outputs": [
        {
          "output_type": "stream",
          "name": "stdout",
          "text": [
            "x_train shape:  (60000, 28, 28)\n",
            "y_train shape:  (60000,)\n",
            "x_test shape:  (10000, 28, 28)\n",
            "y_test shape:  (10000,)\n"
          ]
        }
      ],
      "source": [
        "print('x_train shape: ', x_train.shape)\n",
        "print('y_train shape: ', y_train.shape)\n",
        "print('x_test shape: ', x_test.shape)\n",
        "print('y_test shape: ', y_test.shape)"
      ]
    },
    {
      "cell_type": "markdown",
      "metadata": {
        "id": "20mxix6ZDk16"
      },
      "source": [
        "Show some images in the dataset and their label"
      ]
    },
    {
      "cell_type": "code",
      "execution_count": 4,
      "metadata": {
        "colab": {
          "base_uri": "https://localhost:8080/",
          "height": 428
        },
        "id": "-BlzIgbIDrb7",
        "outputId": "b64eb1eb-f6a5-467e-d16d-b47614cb26b0"
      },
      "outputs": [
        {
          "output_type": "display_data",
          "data": {
            "text/plain": [
              "<Figure size 640x480 with 4 Axes>"
            ],
            "image/png": "[encoded data removed]"
          },
          "metadata": {}
        }
      ],
      "source": [
        "plt.subplot(2,2,1)\n",
        "plt.imshow(x_train[5])\n",
        "plt.title(y_train[5])\n",
        "plt.axis(\"off\")\n",
        "plt.subplot(2,2,2)\n",
        "plt.imshow(x_train[345])\n",
        "plt.title(y_train[345])\n",
        "plt.axis(\"off\")\n",
        "plt.subplot(2,2,3)\n",
        "plt.imshow(x_train[15983])\n",
        "plt.title(y_train[15983])\n",
        "plt.axis(\"off\")\n",
        "plt.subplot(2,2,4)\n",
        "plt.imshow(x_train[59999])\n",
        "plt.title(y_train[59999])\n",
        "plt.axis(\"off\")\n",
        "plt.show()"
      ]
    },
    {
      "cell_type": "markdown",
      "metadata": {
        "id": "caniSBJhW_-9"
      },
      "source": [
        "Get only images from dataset that only represent digits \"0\" and \"1\""
      ]
    },
    {
      "cell_type": "code",
      "execution_count": 5,
      "metadata": {
        "colab": {
          "base_uri": "https://localhost:8080/"
        },
        "id": "sVjVR_Wjp3X-",
        "outputId": "73fd16df-0828-4de5-de12-ca78b439a92c"
      },
      "outputs": [
        {
          "output_type": "stream",
          "name": "stdout",
          "text": [
            "[False  True False ... False False False]\n",
            "x_train shape:  (12665, 28, 28)\n",
            "y_train shape:  (12665,)\n"
          ]
        }
      ],
      "source": [
        "# using a mask only some samples are kept\n",
        "mask = np.logical_or(y_train==0, y_train==1)\n",
        "print(mask)\n",
        "x_train = x_train[mask]\n",
        "y_train = y_train[mask]\n",
        "print(\"x_train shape: \", x_train.shape)\n",
        "print(\"y_train shape: \", y_train.shape)"
      ]
    },
    {
      "cell_type": "code",
      "execution_count": 6,
      "metadata": {
        "colab": {
          "base_uri": "https://localhost:8080/"
        },
        "id": "d6KFbrNarJW_",
        "outputId": "6bb79c2a-f3b9-49a6-ebb6-2c88418465bf"
      },
      "outputs": [
        {
          "output_type": "stream",
          "name": "stdout",
          "text": [
            "[False False  True ... False False False]\n",
            "x_test shape:  (2115, 28, 28)\n",
            "y_test shape:  (2115,)\n"
          ]
        }
      ],
      "source": [
        "# using a mask only some samples are kept\n",
        "mask = np.logical_or(y_test==0, y_test==1)\n",
        "print(mask)\n",
        "x_test = x_test[mask]   # data TEST\n",
        "y_test = y_test[mask]   # label TEST\n",
        "print(\"x_test shape: \", x_test.shape)\n",
        "print(\"y_test shape: \", y_test.shape)"
      ]
    },
    {
      "cell_type": "code",
      "execution_count": 7,
      "metadata": {
        "id": "nZPX3Q3BI9BT"
      },
      "outputs": [],
      "source": [
        "# NOT EXECUTED SINCE OUR NETWORK ALREADY HAS A FLATTEN LAYER\n",
        "\n",
        "#x_train = x_train.reshape((12665, 784))\n",
        "#x_test = x_test.reshape((2115, 784))\n"
      ]
    },
    {
      "cell_type": "markdown",
      "metadata": {
        "id": "M5I3WV-3XHhX"
      },
      "source": [
        "Let's divide our dataset in a training and validation part"
      ]
    },
    {
      "cell_type": "code",
      "execution_count": 8,
      "metadata": {
        "colab": {
          "base_uri": "https://localhost:8080/"
        },
        "id": "GyAwekA5drLq",
        "outputId": "3bfda5ba-3e13-4c52-a314-6a1646f13b43"
      },
      "outputs": [
        {
          "output_type": "stream",
          "name": "stdout",
          "text": [
            "x_train shape:  (10132, 28, 28)\n",
            "y_train shape:  (10132,)\n",
            "x_val shape:  (2533, 28, 28)\n",
            "y_val shape:  (2533,)\n"
          ]
        }
      ],
      "source": [
        "x_t = x_train[:int(0.8*x_train.shape[0]),:]     # data TRAIN\n",
        "y_t = y_train[:int(0.8*y_train.shape[0])]       # label TRAIN\n",
        "x_val = x_train[int(0.8*x_train.shape[0]):,:]   # data VALIDATION\n",
        "y_val = y_train[int(0.8*y_train.shape[0]):]     # label VALIDATION\n",
        "\n",
        "print('x_train shape: ', x_t.shape)\n",
        "print('y_train shape: ', y_t.shape)\n",
        "print('x_val shape: ', x_val.shape)\n",
        "print('y_val shape: ', y_val.shape)"
      ]
    },
    {
      "cell_type": "markdown",
      "metadata": {
        "id": "0aDrqV_WCcdv"
      },
      "source": [
        "Normalize input images between 0 and 1"
      ]
    },
    {
      "cell_type": "code",
      "execution_count": 9,
      "metadata": {
        "id": "6RFYUlA-DYsD"
      },
      "outputs": [],
      "source": [
        "x_t = x_t / 255.0\n",
        "x_val = x_val / 255.0\n",
        "x_test = x_test / 255.0"
      ]
    },
    {
      "cell_type": "markdown",
      "metadata": {
        "id": "tNgYK80XXNiz"
      },
      "source": [
        "Create model"
      ]
    },
    {
      "cell_type": "code",
      "execution_count": 10,
      "metadata": {
        "id": "iu7SnnqvduFa",
        "colab": {
          "base_uri": "https://localhost:8080/"
        },
        "outputId": "6d1d27da-7930-468c-ec13-f2e9d30d509d"
      },
      "outputs": [
        {
          "output_type": "stream",
          "name": "stderr",
          "text": [
            "/usr/local/lib/python3.11/dist-packages/keras/src/layers/reshaping/flatten.py:37: UserWarning: Do not pass an `input_shape`/`input_dim` argument to a layer. When using Sequential models, prefer using an `Input(shape)` object as the first layer in the model instead.\n",
            "  super().__init__(**kwargs)\n",
            "/usr/local/lib/python3.11/dist-packages/keras/src/layers/core/dense.py:87: UserWarning: Do not pass an `input_shape`/`input_dim` argument to a layer. When using Sequential models, prefer using an `Input(shape)` object as the first layer in the model instead.\n",
            "  super().__init__(activity_regularizer=activity_regularizer, **kwargs)\n"
          ]
        }
      ],
      "source": [
        "# Keras model 1\n",
        "model1 = tf.keras.models.Sequential([\n",
        " tf.keras.layers.Flatten(input_shape=(28, 28)),\n",
        " tf.keras.layers.Dense(1, input_shape=(784,), activation='sigmoid'),\n",
        "])"
      ]
    },
    {
      "cell_type": "code",
      "execution_count": 11,
      "metadata": {
        "colab": {
          "base_uri": "https://localhost:8080/",
          "height": 204
        },
        "id": "SET5btk-dxZ0",
        "outputId": "d6947305-7a03-402b-cf2e-c19e0984335a"
      },
      "outputs": [
        {
          "output_type": "display_data",
          "data": {
            "text/plain": [
              "\u001b[1mModel: \"sequential\"\u001b[0m\n"
            ],
            "text/html": [
              "<pre style=\"white-space:pre;overflow-x:auto;line-height:normal;font-family:Menlo,'DejaVu Sans Mono',consolas,'Courier New',monospace\"><span style=\"font-weight: bold\">Model: \"sequential\"</span>\n",
              "</pre>\n"
            ]
          },
          "metadata": {}
        },
        {
          "output_type": "display_data",
          "data": {
            "text/plain": [
              "┏━━━━━━━━━━━━━━━━━━━━━━━━━━━━━━━━━┳━━━━━━━━━━━━━━━━━━━━━━━━┳━━━━━━━━━━━━━━━┓\n",
              "┃\u001b[1m \u001b[0m\u001b[1mLayer (type)                   \u001b[0m\u001b[1m \u001b[0m┃\u001b[1m \u001b[0m\u001b[1mOutput Shape          \u001b[0m\u001b[1m \u001b[0m┃\u001b[1m \u001b[0m\u001b[1m      Param #\u001b[0m\u001b[1m \u001b[0m┃\n",
              "┡━━━━━━━━━━━━━━━━━━━━━━━━━━━━━━━━━╇━━━━━━━━━━━━━━━━━━━━━━━━╇━━━━━━━━━━━━━━━┩\n",
              "│ flatten (\u001b[38;5;33mFlatten\u001b[0m)               │ (\u001b[38;5;45mNone\u001b[0m, \u001b[38;5;34m784\u001b[0m)            │             \u001b[38;5;34m0\u001b[0m │\n",
              "├─────────────────────────────────┼────────────────────────┼───────────────┤\n",
              "│ dense (\u001b[38;5;33mDense\u001b[0m)                   │ (\u001b[38;5;45mNone\u001b[0m, \u001b[38;5;34m1\u001b[0m)              │           \u001b[38;5;34m785\u001b[0m │\n",
              "└─────────────────────────────────┴────────────────────────┴───────────────┘\n"
            ],
            "text/html": [
              "<pre style=\"white-space:pre;overflow-x:auto;line-height:normal;font-family:Menlo,'DejaVu Sans Mono',consolas,'Courier New',monospace\">┏━━━━━━━━━━━━━━━━━━━━━━━━━━━━━━━━━┳━━━━━━━━━━━━━━━━━━━━━━━━┳━━━━━━━━━━━━━━━┓\n",
              "┃<span style=\"font-weight: bold\"> Layer (type)                    </span>┃<span style=\"font-weight: bold\"> Output Shape           </span>┃<span style=\"font-weight: bold\">       Param # </span>┃\n",
              "┡━━━━━━━━━━━━━━━━━━━━━━━━━━━━━━━━━╇━━━━━━━━━━━━━━━━━━━━━━━━╇━━━━━━━━━━━━━━━┩\n",
              "│ flatten (<span style=\"color: #0087ff; text-decoration-color: #0087ff\">Flatten</span>)               │ (<span style=\"color: #00d7ff; text-decoration-color: #00d7ff\">None</span>, <span style=\"color: #00af00; text-decoration-color: #00af00\">784</span>)            │             <span style=\"color: #00af00; text-decoration-color: #00af00\">0</span> │\n",
              "├─────────────────────────────────┼────────────────────────┼───────────────┤\n",
              "│ dense (<span style=\"color: #0087ff; text-decoration-color: #0087ff\">Dense</span>)                   │ (<span style=\"color: #00d7ff; text-decoration-color: #00d7ff\">None</span>, <span style=\"color: #00af00; text-decoration-color: #00af00\">1</span>)              │           <span style=\"color: #00af00; text-decoration-color: #00af00\">785</span> │\n",
              "└─────────────────────────────────┴────────────────────────┴───────────────┘\n",
              "</pre>\n"
            ]
          },
          "metadata": {}
        },
        {
          "output_type": "display_data",
          "data": {
            "text/plain": [
              "\u001b[1m Total params: \u001b[0m\u001b[38;5;34m785\u001b[0m (3.07 KB)\n"
            ],
            "text/html": [
              "<pre style=\"white-space:pre;overflow-x:auto;line-height:normal;font-family:Menlo,'DejaVu Sans Mono',consolas,'Courier New',monospace\"><span style=\"font-weight: bold\"> Total params: </span><span style=\"color: #00af00; text-decoration-color: #00af00\">785</span> (3.07 KB)\n",
              "</pre>\n"
            ]
          },
          "metadata": {}
        },
        {
          "output_type": "display_data",
          "data": {
            "text/plain": [
              "\u001b[1m Trainable params: \u001b[0m\u001b[38;5;34m785\u001b[0m (3.07 KB)\n"
            ],
            "text/html": [
              "<pre style=\"white-space:pre;overflow-x:auto;line-height:normal;font-family:Menlo,'DejaVu Sans Mono',consolas,'Courier New',monospace\"><span style=\"font-weight: bold\"> Trainable params: </span><span style=\"color: #00af00; text-decoration-color: #00af00\">785</span> (3.07 KB)\n",
              "</pre>\n"
            ]
          },
          "metadata": {}
        },
        {
          "output_type": "display_data",
          "data": {
            "text/plain": [
              "\u001b[1m Non-trainable params: \u001b[0m\u001b[38;5;34m0\u001b[0m (0.00 B)\n"
            ],
            "text/html": [
              "<pre style=\"white-space:pre;overflow-x:auto;line-height:normal;font-family:Menlo,'DejaVu Sans Mono',consolas,'Courier New',monospace\"><span style=\"font-weight: bold\"> Non-trainable params: </span><span style=\"color: #00af00; text-decoration-color: #00af00\">0</span> (0.00 B)\n",
              "</pre>\n"
            ]
          },
          "metadata": {}
        }
      ],
      "source": [
        "model1.summary()"
      ]
    },
    {
      "cell_type": "markdown",
      "metadata": {
        "id": "WSvahbA0XQQu"
      },
      "source": [
        "Train the model"
      ]
    },
    {
      "cell_type": "code",
      "execution_count": 12,
      "metadata": {
        "colab": {
          "base_uri": "https://localhost:8080/"
        },
        "id": "mclLGlukS6fG",
        "outputId": "f3aa7212-b1d7-43cb-b45c-c4a719ae8c63"
      },
      "outputs": [
        {
          "output_type": "stream",
          "name": "stdout",
          "text": [
            "\u001b[1m317/317\u001b[0m \u001b[32m━━━━━━━━━━━━━━━━━━━━\u001b[0m\u001b[37m\u001b[0m \u001b[1m2s\u001b[0m 4ms/step - accuracy: 0.8506 - loss: 0.3816 - val_accuracy: 0.9905 - val_loss: 0.0750\n"
          ]
        }
      ],
      "source": [
        "model1.compile(optimizer=tf.keras.optimizers.Adam(learning_rate=0.0005),\n",
        " loss= tf.keras.losses.BinaryCrossentropy(),\n",
        " metrics=['accuracy'])\n",
        "history1 = model1.fit(x_t, y_t, validation_data=(x_val, y_val), epochs=1)"
      ]
    },
    {
      "cell_type": "code",
      "execution_count": 13,
      "metadata": {
        "colab": {
          "base_uri": "https://localhost:8080/",
          "height": 469
        },
        "id": "D4CF-R5j_Cqp",
        "outputId": "2a8de933-8a14-4fb4-f511-18ef875384d0"
      },
      "outputs": [
        {
          "output_type": "stream",
          "name": "stdout",
          "text": [
            "Visualize trained weights as an image\n"
          ]
        },
        {
          "output_type": "display_data",
          "data": {
            "text/plain": [
              "<Figure size 640x480 with 2 Axes>"
            ],
            "image/png": "[encoded data removed]"
          },
          "metadata": {}
        }
      ],
      "source": [
        "#print(model1.trainable_variables)\n",
        "print(\"Visualize trained weights as an image\")\n",
        "w = np.array(model1.trainable_variables[0]).reshape((28,28))    # trained weights\n",
        "\n",
        "plt.imshow(w)\n",
        "plt.title(\"Trained weights\")\n",
        "plt.colorbar()\n",
        "plt.show()"
      ]
    },
    {
      "cell_type": "markdown",
      "metadata": {
        "id": "Jwd-fkldCcdw"
      },
      "source": [
        "Evaluate performances on test set"
      ]
    },
    {
      "cell_type": "code",
      "execution_count": 14,
      "metadata": {
        "colab": {
          "base_uri": "https://localhost:8080/"
        },
        "id": "DRBdZWNIeD5N",
        "outputId": "38844a6a-1982-49d3-a0cb-6a902d05367d"
      },
      "outputs": [
        {
          "output_type": "stream",
          "name": "stdout",
          "text": [
            "\u001b[1m67/67\u001b[0m \u001b[32m━━━━━━━━━━━━━━━━━━━━\u001b[0m\u001b[37m\u001b[0m \u001b[1m0s\u001b[0m 2ms/step - accuracy: 0.9990 - loss: 0.0749\n"
          ]
        },
        {
          "output_type": "execute_result",
          "data": {
            "text/plain": [
              "[0.067769356071949, 0.9981087446212769]"
            ]
          },
          "metadata": {},
          "execution_count": 14
        }
      ],
      "source": [
        "model1.evaluate(x_test, y_test)"
      ]
    },
    {
      "cell_type": "markdown",
      "metadata": {
        "id": "OLncZFtZCcdw"
      },
      "source": [
        "Evaluate output of the model [value from 0 to 1] and real label on some test images"
      ]
    },
    {
      "cell_type": "code",
      "execution_count": 15,
      "metadata": {
        "colab": {
          "base_uri": "https://localhost:8080/"
        },
        "id": "fkVg0BpDvqRI",
        "outputId": "e9ed60c2-8ae5-4fa5-f42b-a68f1082364c"
      },
      "outputs": [
        {
          "output_type": "stream",
          "name": "stdout",
          "text": [
            "[0.892] 1\n",
            "[0.037] 0\n",
            "[0.955] 1\n",
            "[0.019] 0\n",
            "[0.023] 0\n"
          ]
        }
      ],
      "source": [
        "predictions1 = np.around(np.asarray(model1(x_test)), 3)\n",
        "print(predictions1[0], y_test[0])\n",
        "print(predictions1[1], y_test[1])\n",
        "print(predictions1[2], y_test[2])\n",
        "print(predictions1[3], y_test[3])\n",
        "print(predictions1[4], y_test[4])"
      ]
    },
    {
      "cell_type": "markdown",
      "metadata": {
        "id": "pOTRhSH0XWVl"
      },
      "source": [
        "Show misclassified images"
      ]
    },
    {
      "cell_type": "code",
      "execution_count": 16,
      "metadata": {
        "colab": {
          "base_uri": "https://localhost:8080/",
          "height": 1000
        },
        "id": "V6FNkLOXIX8E",
        "outputId": "8d303abd-1be3-49dd-f2fb-c554dc876d97"
      },
      "outputs": [
        {
          "output_type": "stream",
          "name": "stdout",
          "text": [
            "[[1.]\n",
            " [0.]\n",
            " [1.]\n",
            " ...\n",
            " [1.]\n",
            " [0.]\n",
            " [1.]]\n"
          ]
        },
        {
          "output_type": "display_data",
          "data": {
            "text/plain": [
              "<Figure size 640x480 with 1 Axes>"
            ],
            "image/png": "[encoded data removed]"
          },
          "metadata": {}
        },
        {
          "output_type": "display_data",
          "data": {
            "text/plain": [
              "<Figure size 640x480 with 1 Axes>"
            ],
            "image/png": "[encoded data removed]"
          },
          "metadata": {}
        },
        {
          "output_type": "display_data",
          "data": {
            "text/plain": [
              "<Figure size 640x480 with 1 Axes>"
            ],
            "image/png": "[encoded data removed]"
          },
          "metadata": {}
        },
        {
          "output_type": "display_data",
          "data": {
            "text/plain": [
              "<Figure size 640x480 with 1 Axes>"
            ],
            "image/png": "[encoded data removed]"
          },
          "metadata": {}
        },
        {
          "output_type": "stream",
          "name": "stdout",
          "text": [
            "correct:  2111\n",
            "errors:  4\n",
            "accuracy:  0.9981087470449173\n"
          ]
        }
      ],
      "source": [
        "predictions1_round = np.around(predictions1, 0)\n",
        "print(predictions1_round)\n",
        "\n",
        "count_errors = 0\n",
        "for i in range(len(predictions1_round)):\n",
        "  if predictions1_round[i]!=y_test[i]:\n",
        "    count_errors+=1\n",
        "    plt.imshow(x_test[i])\n",
        "    plt.title(str(i) + \" - \" + str(predictions1[i]))\n",
        "    plt.axis(\"off\")\n",
        "    plt.show()\n",
        "\n",
        "accuracy = (len(predictions1)-count_errors)/len(predictions1)\n",
        "print(\"correct: \", len(predictions1)-count_errors)\n",
        "print(\"errors: \", count_errors)\n",
        "print(\"accuracy: \", accuracy)\n"
      ]
    },
    {
      "cell_type": "markdown",
      "metadata": {
        "id": "5dWHWLkLXb4n"
      },
      "source": [
        "Try to classify digits that are not 0 or 1 with the trained model"
      ]
    },
    {
      "cell_type": "code",
      "execution_count": 17,
      "metadata": {
        "colab": {
          "base_uri": "https://localhost:8080/"
        },
        "id": "d0AMIrgS4jOv",
        "outputId": "f189b27c-0dd1-4ead-9d30-514607996b78"
      },
      "outputs": [
        {
          "output_type": "stream",
          "name": "stdout",
          "text": [
            "tf.Tensor(\n",
            "[[0.49524292]\n",
            " [0.6016658 ]\n",
            " [0.8921431 ]\n",
            " ...\n",
            " [0.6014447 ]\n",
            " [0.62508726]\n",
            " [0.08612078]], shape=(10000, 1), dtype=float32)\n"
          ]
        }
      ],
      "source": [
        "(_, _), (x_test_full, y_test_full) = tf.keras.datasets.mnist.load_data()\n",
        "x_test_full =  x_test_full / 255.0\n",
        "\n",
        "predictions_full = model1(x_test_full)\n",
        "print(predictions_full)"
      ]
    },
    {
      "cell_type": "code",
      "execution_count": 18,
      "metadata": {
        "id": "igBwPS9x-6gZ",
        "colab": {
          "base_uri": "https://localhost:8080/",
          "height": 428
        },
        "outputId": "4d58a77b-cd49-44dc-bc0e-ffb8702f9dc5"
      },
      "outputs": [
        {
          "output_type": "display_data",
          "data": {
            "text/plain": [
              "<Figure size 640x480 with 4 Axes>"
            ],
            "image/png": "[encoded data removed]"
          },
          "metadata": {}
        }
      ],
      "source": [
        "plt.subplot(2,2,1)\n",
        "plt.imshow(x_test_full[0])\n",
        "plt.title(f\"Real: {y_test_full[0]} - Pred: {np.around(predictions_full[0],3)}\")\n",
        "plt.axis(\"off\")\n",
        "plt.subplot(2,2,2)\n",
        "plt.imshow(x_test_full[1])\n",
        "plt.title(f\"Real: {y_test_full[1]} - Pred: {np.around(predictions_full[1],3)}\")\n",
        "plt.axis(\"off\")\n",
        "plt.subplot(2,2,3)\n",
        "plt.imshow(x_test_full[2])\n",
        "plt.title(f\"Real: {y_test_full[2]} - Pred: {np.around(predictions_full[2],3)}\")\n",
        "plt.axis(\"off\")\n",
        "plt.subplot(2,2,4)\n",
        "plt.imshow(x_test_full[3])\n",
        "plt.title(f\"Real: {y_test_full[3]} - Pred: {np.around(predictions_full[3],3)}\")\n",
        "plt.axis(\"off\")\n",
        "plt.show()"
      ]
    }
  ],
  "metadata": {
    "colab": {
      "provenance": []
    },
    "kernelspec": {
      "display_name": "Python 3",
      "name": "python3"
    },
    "language_info": {
      "codemirror_mode": {
        "name": "ipython",
        "version": 3
      },
      "file_extension": ".py",
      "mimetype": "text/x-python",
      "name": "python",
      "nbconvert_exporter": "python",
      "pygments_lexer": "ipython3",
      "version": "3.11.4"
    }
  },
  "nbformat": 4,
  "nbformat_minor": 0
}