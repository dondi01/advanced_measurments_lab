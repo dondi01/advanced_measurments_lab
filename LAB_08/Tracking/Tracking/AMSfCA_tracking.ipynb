{
  "cells": [
    {
      "cell_type": "markdown",
      "metadata": {
        "id": "tqbTccDCbvPf"
      },
      "source": [
        "**AMSfCA**\n",
        "\n",
        "Computer Vision lab, checkerboard tracking"
      ]
    },
    {
      "cell_type": "code",
      "execution_count": null,
      "metadata": {
        "id": "XuroKqt-kH7y"
      },
      "outputs": [],
      "source": [
        "import glob\n",
        "import matplotlib.pyplot as plt\n",
        "import numpy as np\n",
        "import cv2 as cv\n",
        "import os"
      ]
    },
    {
      "cell_type": "markdown",
      "metadata": {
        "id": "oCVIjwFd4jzw"
      },
      "source": [
        "Import images"
      ]
    },
    {
      "cell_type": "code",
      "execution_count": null,
      "metadata": {
        "colab": {
          "base_uri": "https://localhost:8080/",
          "height": 387
        },
        "id": "kcUWf7kRlcGu",
        "outputId": "232be12e-634b-4b96-93ff-f3cd1f9322d8"
      },
      "outputs": [],
      "source": [
        "# Try to import one image\n",
        "image = cv.imread(\"/content/01.png\")\n",
        "print(image.shape)\n",
        "plt.imshow(image)\n",
        "plt.axis(\"off\")\n",
        "plt.title(\"our first image\")\n",
        "plt.show()"
      ]
    },
    {
      "cell_type": "code",
      "execution_count": null,
      "metadata": {
        "colab": {
          "base_uri": "https://localhost:8080/"
        },
        "id": "7RnW4qfPn35T",
        "outputId": "d4cd10ac-488b-48d6-d164-1ad802576bd4"
      },
      "outputs": [],
      "source": [
        "# Get the path of each image\n",
        "images_paths = glob.glob(\"/content/*.png\")\n",
        "print(images_paths)\n",
        "print(f'the number of pictures is {len(images_paths)}')"
      ]
    },
    {
      "cell_type": "code",
      "execution_count": null,
      "metadata": {
        "colab": {
          "base_uri": "https://localhost:8080/"
        },
        "id": "kiM2G-FZpCFc",
        "outputId": "d20c5362-e919-4094-c6ca-f1dc926b71b4"
      },
      "outputs": [],
      "source": [
        "# Import images\n",
        "for k, path in enumerate(images_paths):\n",
        "  image = cv.imread(path)\n",
        "  print(image.shape)\n",
        "  #plt.imshow(image)\n",
        "  #plt.axis(\"off\")\n",
        "  #plt.title(f'image number {k}')\n",
        "  #plt.show()"
      ]
    },
    {
      "cell_type": "markdown",
      "metadata": {
        "id": "9tMivs9T4jzx"
      },
      "source": [
        "Camera calibration"
      ]
    },
    {
      "cell_type": "code",
      "execution_count": null,
      "metadata": {
        "id": "TZ3lWBqFsoQ-"
      },
      "outputs": [],
      "source": [
        "# Define the size of the checkerboard\n",
        "CHECKERBOARD = (8,5)  # corners in the checkerboard\n",
        "squareDim = 15.0      # length of each square in the checkerboard [mm]\n",
        "\n",
        "criteria = (cv.TERM_CRITERIA_EPS + cv.TERM_CRITERIA_MAX_ITER, 30, 0.001)\n",
        "\n",
        "objp = []\n",
        "for i in range(CHECKERBOARD[1]):\n",
        "  for j in range(CHECKERBOARD[0]):\n",
        "    objp.append([j*squareDim, i*squareDim, 0.0])\n",
        "\n",
        "objp = np.array(objp, np.float32)\n",
        "\n",
        "object_points = []\n",
        "images_points = []\n"
      ]
    },
    {
      "cell_type": "code",
      "execution_count": null,
      "metadata": {
        "colab": {
          "base_uri": "https://localhost:8080/",
          "height": 1000
        },
        "id": "t-VPd7a2wTat",
        "outputId": "63a8f46d-ffe1-4344-b961-ce67bffef2b5"
      },
      "outputs": [],
      "source": [
        "for k, path in enumerate(images_paths):\n",
        "  image = cv.imread(path) # import image\n",
        "  print(image.shape)\n",
        "  gray = cv.cvtColor(image, cv.COLOR_RGB2GRAY)  # convert RGB image in gray\n",
        "  print(gray.shape)\n",
        "\n",
        "  # Find chessboard corners\n",
        "  ret, corners = cv.findChessboardCorners(gray, CHECKERBOARD, None)\n",
        "  print(ret, len(corners))\n",
        "\n",
        "  if ret == True:\n",
        "    # Look at sub-pixel level to refine the detected position of the corners\n",
        "    corners2 = cv.cornerSubPix(gray, corners, (11,11), (-1,-1), criteria)\n",
        "\n",
        "    # Save positions of the corners\n",
        "    images_points.append(corners2)\n",
        "    object_points.append(objp)\n",
        "\n",
        "    image = cv.drawChessboardCorners(image, CHECKERBOARD, corners2, True)\n",
        "\n",
        "    plt.imshow(image)\n",
        "    plt.axis(\"off\")\n",
        "    plt.show()\n"
      ]
    },
    {
      "cell_type": "code",
      "execution_count": null,
      "metadata": {
        "colab": {
          "base_uri": "https://localhost:8080/"
        },
        "id": "UQW_9bdl4jzy",
        "outputId": "987be2bf-e76b-4dda-950d-e11a6030d81d"
      },
      "outputs": [],
      "source": [
        "print(object_points)"
      ]
    },
    {
      "cell_type": "code",
      "execution_count": null,
      "metadata": {
        "colab": {
          "base_uri": "https://localhost:8080/"
        },
        "id": "BNFCxNUm4jzy",
        "outputId": "639744b3-0531-40de-b1f9-dac1c1c2fd90"
      },
      "outputs": [],
      "source": [
        "print(images_points)"
      ]
    },
    {
      "cell_type": "code",
      "execution_count": null,
      "metadata": {
        "colab": {
          "base_uri": "https://localhost:8080/"
        },
        "id": "Ou52wFw817Np",
        "outputId": "216a5df7-4e64-43aa-a5f0-24aa0f630e47"
      },
      "outputs": [],
      "source": [
        "# Calibrate camera\n",
        "ret, intrinsic, dist, r_vecs, t_vecs = cv.calibrateCamera(object_points, images_points, (1216,1936), None, None)\n",
        "\n",
        "print(f\"Overall RMS re-projection error: {ret}\")\n",
        "print(\"\\nCamera (intrinsic) matrix:\")\n",
        "print(intrinsic)\n",
        "print(\"\\nDistortion coefficients:\")\n",
        "print(dist)\n",
        "print(\"\\nRotation vectors estimated for each pattern view:\")\n",
        "print(r_vecs)\n",
        "print(\"\\nTranslation vectors estimated for each pattern view:\")\n",
        "print(t_vecs)"
      ]
    },
    {
      "cell_type": "markdown",
      "metadata": {
        "id": "p-J9zhnY4jzz"
      },
      "source": [
        "Analyse a new video and track the calibrator"
      ]
    },
    {
      "cell_type": "code",
      "execution_count": null,
      "metadata": {
        "id": "TyDd6iAR4jzz"
      },
      "outputs": [],
      "source": [
        "# This function takes the corners in the chessboard and axis points to draw a 3D axis\n",
        "def draw(img, corners, imgpts):\n",
        "    corner = tuple(corners[0].ravel().astype(\"int32\"))\n",
        "    imgpts = imgpts.astype(\"int32\")\n",
        "    img = cv.line(img, corner, tuple(imgpts[0].ravel()), (255,0,0), 5)\n",
        "    img = cv.line(img, corner, tuple(imgpts[1].ravel()), (0,255,0), 5)\n",
        "    img = cv.line(img, corner, tuple(imgpts[2].ravel()), (0,0,255), 5)\n",
        "    return img"
      ]
    },
    {
      "cell_type": "code",
      "execution_count": null,
      "metadata": {
        "id": "zH-E-P3N4jzz"
      },
      "outputs": [],
      "source": [
        "# This funciton merges images to create a video\n",
        "def convert_images_to_video(image_files, output_file, fps):\n",
        "\n",
        "    # Read the first image to get its dimensions\n",
        "    first_image = image_files[0]\n",
        "    height, width, _ = first_image.shape\n",
        "\n",
        "    # Create a VideoWriter object to save the video\n",
        "    fourcc = cv.VideoWriter_fourcc(*'mp4v')  # Specify the codec for the output video file\n",
        "    video = cv.VideoWriter(output_file, fourcc, fps, (width, height))\n",
        "\n",
        "    # Iterate over each image and write it to the video\n",
        "    for frame in image_files:\n",
        "        video.write(frame)\n",
        "\n",
        "    # Release the video writer and close the video file\n",
        "    video.release()\n",
        "    cv.destroyAllWindows()"
      ]
    },
    {
      "cell_type": "code",
      "execution_count": null,
      "metadata": {
        "id": "FZvpOaFr4jzz"
      },
      "outputs": [],
      "source": [
        "# Import video to analyse\n",
        "video_path = \"/content/video.avi\"\n",
        "cap = cv.VideoCapture(video_path)\n",
        "\n",
        "t_vec_history = []\n",
        "r_vec_history = []\n",
        "\n",
        "t_x_history = []\n",
        "t_y_history = []\n",
        "t_z_history = []\n",
        "\n",
        "img_frames = []\n",
        "\n",
        "# Define the 3 axes that will be printed\n",
        "axis = np.float32([[3,0,0], [0,3,0], [0,0,-3]]).reshape(-1,3)"
      ]
    },
    {
      "cell_type": "code",
      "execution_count": null,
      "metadata": {
        "id": "KWYJfqH47tky"
      },
      "outputs": [],
      "source": [
        "# Open and analyse each frame of the video\n",
        "\n",
        "while cap.isOpened():\n",
        "  ret, frame = cap.read()\n",
        "\n",
        "  if not ret:\n",
        "    break\n",
        "\n",
        "  gray = cv.cvtColor(frame, cv.COLOR_RGB2GRAY)  # Convert each colour frame in gray\n",
        "  ret, corners = cv.findChessboardCorners(gray, CHECKERBOARD, None)\n",
        "  if ret == True:\n",
        "    corners2 = cv.cornerSubPix(gray, corners, (11,11), (-1,-1), criteria)\n",
        "\n",
        "    # Return the rotation and translation vectors that transform a 3D point expressed in the object coordinate frame to the camera coordinate frame\n",
        "    ret, r_vec, t_vec = cv.solvePnP(objp, corners2, intrinsic, dist)\n",
        "\n",
        "    # project 3D points to image plane (imgpts are the pixel coordinates of the end of each axis that we have defined before in 3D)\n",
        "    imgpts, jac = cv.projectPoints(axis, r_vec, t_vec, intrinsic, dist)\n",
        "\n",
        "    # Call the function to draw 3D axis on the chessboard\n",
        "    img = draw(frame,corners2,imgpts)\n",
        "\n",
        "    # Store each frame with the plot of the 3D axis in a list that will be used to create the video\n",
        "    img_frames.append(img)\n",
        "\n",
        "    # Put translation vectors in variables to store the history of the movement\n",
        "    t_vec_history.append(t_vec)\n",
        "    t_x_history.append(t_vec[0])\n",
        "    t_y_history.append(t_vec[1])\n",
        "    t_z_history.append(t_vec[2])\n",
        "\n",
        "    # Put rotation vectors in variables to store the history of the movement\n",
        "    r_vec_history.append(r_vec)\n",
        "\n",
        "# Call the function to convert the images to video\n",
        "output_file = \"/content/video_output.mp4\"\n",
        "convert_images_to_video(img_frames, output_file, fps=10)\n",
        "\n"
      ]
    },
    {
      "cell_type": "markdown",
      "metadata": {
        "id": "W47pZL6N4jzz"
      },
      "source": [
        "Plot movements"
      ]
    },
    {
      "cell_type": "code",
      "execution_count": null,
      "metadata": {
        "colab": {
          "base_uri": "https://localhost:8080/",
          "height": 472
        },
        "id": "11K_a1QC-a-N",
        "outputId": "2a166d7f-8727-4c81-a29c-8dbca01c7b58"
      },
      "outputs": [],
      "source": [
        "# Plot the translation over time\n",
        "plt.plot(t_x_history, label=\"X\", color = 'g')\n",
        "plt.plot(t_y_history, label=\"Y\", color = 'b')\n",
        "plt.plot(t_z_history, label=\"Z\", color = 'r')\n",
        "plt.legend()\n",
        "plt.xlabel(\"Time [s]\")\n",
        "plt.ylabel(\"Translation [mm]\")\n",
        "plt.title(\"Movement of the checkerboard wrt the optical centre of the camera\")\n",
        "plt.show()"
      ]
    },
    {
      "cell_type": "code",
      "execution_count": null,
      "metadata": {
        "id": "fgttBWzu_1od"
      },
      "outputs": [],
      "source": [
        "x = np.array(t_x_history).reshape(-1)\n",
        "y = np.array(t_y_history).reshape(-1)\n",
        "z = np.array(t_z_history).reshape(-1)"
      ]
    },
    {
      "cell_type": "code",
      "execution_count": null,
      "metadata": {
        "colab": {
          "base_uri": "https://localhost:8080/",
          "height": 542
        },
        "id": "txtt0-CKAzWH",
        "outputId": "bd268d42-2671-4ccd-df03-57fbbbd303e5"
      },
      "outputs": [],
      "source": [
        "# Show the translation in a 3D space\n",
        "\n",
        "import plotly.graph_objects as go\n",
        "import plotly\n",
        "\n",
        "fig = go.Figure(data=[\n",
        "    go.Scatter3d(x=x, y=y, z=z, mode=\"markers\", name=\"Chessboard positions\")\n",
        "])\n",
        "\n",
        "# Add a fixed point to represent the camera in the origin\n",
        "fig.add_trace(go.Scatter3d(\n",
        "    x=[0], y=[0], z=[0],\n",
        "    mode=\"markers+text\",\n",
        "    marker=dict(size=8, color='red'),\n",
        "    text=[\"Camera\"],\n",
        "    textposition=\"top center\",\n",
        "    name=\"Camera origin\"\n",
        "))\n",
        "\n",
        "fig.update_layout(\n",
        "    title=\"Chessboard positions in camera frame\",\n",
        "    scene=dict(\n",
        "        xaxis_title=\"X (mm)\",\n",
        "        yaxis_title=\"Y (mm)\",\n",
        "        zaxis_title=\"Z (mm)\",\n",
        "        aspectmode='data'\n",
        "    )\n",
        ")\n",
        "\n",
        "fig.show()"
      ]
    },
    {
      "cell_type": "code",
      "execution_count": null,
      "metadata": {
        "colab": {
          "base_uri": "https://localhost:8080/",
          "height": 542
        },
        "id": "4md6YUT04jz0",
        "outputId": "d8eecf4c-1589-4c3e-9eb2-7258d3be7f49"
      },
      "outputs": [],
      "source": [
        "camera_positions = []\n",
        "camera_directions = []\n",
        "\n",
        "\n",
        "for r_vec, t_vec in zip(r_vec_history, t_vec_history):\n",
        "    # Convert r_vec in rotation matrix\n",
        "    R, _ = cv.Rodrigues(r_vec)\n",
        "\n",
        "    # Invert the transformation: compute the position of the camera in the chessboard reference system\n",
        "    R_inv = R.T\n",
        "    t_inv = -R_inv @ t_vec\n",
        "    cam_pos = t_inv.flatten()\n",
        "\n",
        "    camera_positions.append(t_inv.flatten())\n",
        "\n",
        "    # Camera Z-axis in chessboard frame is the third column if R_inv.\n",
        "    # Let's multiply for a scale for better visualization\n",
        "    z_axis = R_inv[:, 2] * 50\n",
        "    camera_directions.append((cam_pos, cam_pos + z_axis))\n",
        "\n",
        "# Get X, Y, Z coordinates from camera\n",
        "x = [pos[0] for pos in camera_positions]\n",
        "y = [pos[1] for pos in camera_positions]\n",
        "z = [pos[2] for pos in camera_positions]\n",
        "\n",
        "\n",
        "# Visualize camera position in 3D space\n",
        "fig = go.Figure(data=[\n",
        "    go.Scatter3d(x=x, y=y, z=z, mode=\"markers\", name=\"Camera positions\")\n",
        "])\n",
        "\n",
        "# Add a fixed point to represent the chessboard in the origin\n",
        "fig.add_trace(go.Scatter3d(\n",
        "    x=[0], y=[0], z=[0],\n",
        "    mode=\"markers+text\",\n",
        "    marker=dict(size=8, color='red'),\n",
        "    text=[\"Chessboard\"],\n",
        "    textposition=\"top center\",\n",
        "    name=\"Chessboard origin\"\n",
        "))\n",
        "\n",
        "# Draw arrows for camera z-axis (direction of camera view)\n",
        "for start, end in camera_directions:\n",
        "    fig.add_trace(go.Scatter3d(\n",
        "        x=[start[0], end[0]],\n",
        "        y=[start[1], end[1]],\n",
        "        z=[start[2], end[2]],\n",
        "        mode=\"lines\",\n",
        "        line=dict(color=\"green\", width=4),\n",
        "        showlegend=False\n",
        "    ))\n",
        "\n",
        "\n",
        "fig.update_layout(\n",
        "    title=\"Camera positions and directions in chessboard frame\",\n",
        "    scene=dict(\n",
        "        xaxis_title=\"X (mm)\",\n",
        "        yaxis_title=\"Y (mm)\",\n",
        "        zaxis_title=\"Z (mm)\",\n",
        "        aspectmode='data'\n",
        "    )\n",
        ")\n",
        "\n",
        "fig.show()\n"
      ]
    }
  ],
  "metadata": {
    "colab": {
      "provenance": []
    },
    "kernelspec": {
      "display_name": "Python 3",
      "name": "python3"
    },
    "language_info": {
      "codemirror_mode": {
        "name": "ipython",
        "version": 3
      },
      "file_extension": ".py",
      "mimetype": "text/x-python",
      "name": "python",
      "nbconvert_exporter": "python",
      "pygments_lexer": "ipython3",
      "version": "3.11.4"
    }
  },
  "nbformat": 4,
  "nbformat_minor": 0
}
