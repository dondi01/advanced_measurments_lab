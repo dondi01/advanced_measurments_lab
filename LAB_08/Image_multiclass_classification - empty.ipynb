{
  "cells": [
    {
      "cell_type": "markdown",
      "metadata": {},
      "source": [
        "EX. 2.1: MULTICLASS CLASSIFICATION"
      ]
    },
    {
      "cell_type": "code",
      "execution_count": null,
      "metadata": {
        "id": "GWTpuUEpdgqZ"
      },
      "outputs": [],
      "source": [
        "import tensorflow as tf\n",
        "import matplotlib.pyplot as plt\n",
        "import numpy as np\n",
        "from sklearn import metrics"
      ]
    },
    {
      "cell_type": "markdown",
      "metadata": {
        "id": "EJJ68zaqDPl8"
      },
      "source": [
        "Import MNIST dataset"
      ]
    },
    {
      "cell_type": "code",
      "execution_count": null,
      "metadata": {
        "id": "nClXbLwgdj5k"
      },
      "outputs": [],
      "source": [
        "(x_train, y_train), (x_test, y_test) = tf.keras.datasets.mnist.load_data()"
      ]
    },
    {
      "cell_type": "markdown",
      "metadata": {
        "id": "Q6cI_lIBDbmP"
      },
      "source": [
        "Show dataset dimension"
      ]
    },
    {
      "cell_type": "code",
      "execution_count": null,
      "metadata": {
        "colab": {
          "base_uri": "https://localhost:8080/"
        },
        "id": "ewyBEyK-DZi5",
        "outputId": "fb913e66-f30b-4dd9-95d3-f73420c0d079"
      },
      "outputs": [],
      "source": [
        "print('x_train shape: ', x_train.shape)\n",
        "print('y_train shape: ', y_train.shape)\n",
        "print('x_test shape: ', x_test.shape)\n",
        "print('y_test shape: ', y_test.shape)"
      ]
    },
    {
      "cell_type": "markdown",
      "metadata": {
        "id": "20mxix6ZDk16"
      },
      "source": [
        "Show some images in the dataset and their label"
      ]
    },
    {
      "cell_type": "code",
      "execution_count": null,
      "metadata": {
        "colab": {
          "base_uri": "https://localhost:8080/",
          "height": 428
        },
        "id": "-BlzIgbIDrb7",
        "outputId": "634aa7d6-6ad4-4fdd-bfcb-620cf1548601"
      },
      "outputs": [],
      "source": [
        "plt.subplot(2,2,1)\n",
        "plt.imshow(x_train[56])\n",
        "plt.title(y_train[56])\n",
        "plt.axis(\"off\")\n",
        "plt.subplot(2,2,2)\n",
        "plt.imshow(x_train[122])\n",
        "plt.title(y_train[122])\n",
        "plt.axis(\"off\")\n",
        "plt.subplot(2,2,3)\n",
        "plt.imshow(x_train[2345])\n",
        "plt.title(y_train[2345])\n",
        "plt.axis(\"off\")\n",
        "plt.subplot(2,2,4)\n",
        "plt.imshow(x_train[7896])\n",
        "plt.title(y_train[7896])\n",
        "plt.axis(\"off\")\n",
        "plt.show()"
      ]
    },
    {
      "cell_type": "markdown",
      "metadata": {},
      "source": [
        "Let's divide our dataset in a training and validation part"
      ]
    },
    {
      "cell_type": "code",
      "execution_count": null,
      "metadata": {
        "colab": {
          "base_uri": "https://localhost:8080/"
        },
        "id": "GyAwekA5drLq",
        "outputId": "b35feb07-9f10-45ad-87ab-8594fe095950"
      },
      "outputs": [],
      "source": [
        "x_t = x_train[:int(0.8*x_train.shape[0]),:]     # data TRAIN\n",
        "y_t = y_train[:int(0.8*y_train.shape[0])]       # label TRAIN\n",
        "x_val = x_train[int(0.8*x_train.shape[0]):,:]   # data VALIDATION\n",
        "y_val = y_train[int(0.8*y_train.shape[0]):]     # label VALIDATION\n",
        "\n",
        "print('x_train shape: ', x_t.shape)\n",
        "print('y_train shape: ', y_t.shape)\n",
        "print('x_val shape: ', x_val.shape)\n",
        "print('y_val shape: ', y_val.shape)"
      ]
    },
    {
      "cell_type": "markdown",
      "metadata": {},
      "source": [
        "Normalize input images between 0 and 1"
      ]
    },
    {
      "cell_type": "code",
      "execution_count": null,
      "metadata": {
        "id": "6RFYUlA-DYsD"
      },
      "outputs": [],
      "source": [
        "x_t = x_t / 255.0\n",
        "x_val = x_val / 255.0\n",
        "x_test = x_test / 255.0"
      ]
    },
    {
      "cell_type": "markdown",
      "metadata": {},
      "source": [
        "Create model"
      ]
    },
    {
      "cell_type": "code",
      "execution_count": null,
      "metadata": {
        "id": "9JIUWRWUeO-D"
      },
      "outputs": [],
      "source": [
        "# Keras model\n",
        "model = tf.keras.models.Sequential([    # to complete\n",
        "\n",
        "])"
      ]
    },
    {
      "cell_type": "code",
      "execution_count": null,
      "metadata": {
        "colab": {
          "base_uri": "https://localhost:8080/"
        },
        "id": "Nb1QVVoLaNgX",
        "outputId": "9f8381c3-4777-4a17-d80e-b404fef4e9fc"
      },
      "outputs": [],
      "source": [
        "model.summary()"
      ]
    },
    {
      "cell_type": "markdown",
      "metadata": {},
      "source": [
        "Train the model"
      ]
    },
    {
      "cell_type": "code",
      "execution_count": null,
      "metadata": {
        "colab": {
          "base_uri": "https://localhost:8080/"
        },
        "id": "r9TGvZ1ed2cf",
        "outputId": "0ae5f709-ff2e-4314-e6c0-df1cc271955d"
      },
      "outputs": [],
      "source": [
        "model.compile(\n",
        " optimizer=tf.keras.optimizers.Adam(learning_rate=0.001),\n",
        " loss = ,   # to complete\n",
        " metrics=['accuracy'])\n",
        "\n",
        "model.fit(x_t, y_t, validation_data=(x_val, y_val), epochs=5)"
      ]
    },
    {
      "cell_type": "markdown",
      "metadata": {},
      "source": [
        "Visualize trained weights as an image"
      ]
    },
    {
      "cell_type": "code",
      "execution_count": null,
      "metadata": {
        "colab": {
          "base_uri": "https://localhost:8080/",
          "height": 346
        },
        "id": "s0C1NRJkZklR",
        "outputId": "14fe9abc-3681-4048-8fca-60a2add80c81"
      },
      "outputs": [],
      "source": [
        "#print(model.trainable_variables)\n",
        "print(\"Visualize trained weights as an image\")\n",
        "w0 = np.array(model.trainable_variables[0][:,0])\n",
        "w1 = np.array(model.trainable_variables[0][:,1])\n",
        "w2 = np.array(model.trainable_variables[0][:,2])\n",
        "w3 = np.array(model.trainable_variables[0][:,3])\n",
        "w4 = np.array(model.trainable_variables[0][:,4])\n",
        "w5 = np.array(model.trainable_variables[0][:,5])\n",
        "w6 = np.array(model.trainable_variables[0][:,6])\n",
        "w7 = np.array(model.trainable_variables[0][:,7])\n",
        "w8 = np.array(model.trainable_variables[0][:,8])\n",
        "w9 = np.array(model.trainable_variables[0][:,9])\n",
        "w0 = np.array(w0).reshape((28,28))\n",
        "w1 = np.array(w1).reshape((28,28))\n",
        "w2 = np.array(w2).reshape((28,28))\n",
        "w3 = np.array(w3).reshape((28,28))\n",
        "w4 = np.array(w4).reshape((28,28))\n",
        "w5 = np.array(w5).reshape((28,28))\n",
        "w6 = np.array(w6).reshape((28,28))\n",
        "w7 = np.array(w7).reshape((28,28))\n",
        "w8 = np.array(w8).reshape((28,28))\n",
        "w9 = np.array(w9).reshape((28,28))\n",
        "\n",
        "plt.subplot(2,5,1)\n",
        "plt.title(\"weights 1\")\n",
        "plt.imshow(w0)\n",
        "plt.axis(\"off\")\n",
        "plt.subplot(2,5,2)\n",
        "plt.title(\"weights 2\")\n",
        "plt.imshow(w1)\n",
        "plt.axis(\"off\")\n",
        "plt.subplot(2,5,3)\n",
        "plt.title(\"weights 3\")\n",
        "plt.imshow(w2)\n",
        "plt.axis(\"off\")\n",
        "plt.subplot(2,5,4)\n",
        "plt.title(\"weights 4\")\n",
        "plt.imshow(w3)\n",
        "plt.axis(\"off\")\n",
        "plt.subplot(2,5,5)\n",
        "plt.title(\"weights 5\")\n",
        "plt.imshow(w4)\n",
        "plt.axis(\"off\")\n",
        "plt.subplot(2,5,6)\n",
        "plt.title(\"weights 6\")\n",
        "plt.imshow(w5)\n",
        "plt.axis(\"off\")\n",
        "plt.subplot(2,5,7)\n",
        "plt.title(\"weights 7\")\n",
        "plt.imshow(w6)\n",
        "plt.axis(\"off\")\n",
        "plt.subplot(2,5,8)\n",
        "plt.title(\"weights 8\")\n",
        "plt.imshow(w7)\n",
        "plt.axis(\"off\")\n",
        "plt.subplot(2,5,9)\n",
        "plt.title(\"weights 9\")\n",
        "plt.imshow(w8)\n",
        "plt.axis(\"off\")\n",
        "plt.subplot(2,5,10)\n",
        "plt.title(\"weights 10\")\n",
        "plt.imshow(w9)\n",
        "plt.axis(\"off\")\n",
        "plt.show()"
      ]
    },
    {
      "cell_type": "markdown",
      "metadata": {},
      "source": [
        "Evaluate performances on test set"
      ]
    },
    {
      "cell_type": "code",
      "execution_count": null,
      "metadata": {
        "colab": {
          "base_uri": "https://localhost:8080/"
        },
        "id": "l1mrXFfmHkK8",
        "outputId": "4e56931b-5b1d-4c72-d5f6-db8d031efc3f"
      },
      "outputs": [],
      "source": [
        "model.evaluate(x_test, y_test)"
      ]
    },
    {
      "cell_type": "markdown",
      "metadata": {},
      "source": [
        "Evaluate output of the model [probability of belonging to each class] and real label on some test images"
      ]
    },
    {
      "cell_type": "code",
      "execution_count": null,
      "metadata": {
        "colab": {
          "base_uri": "https://localhost:8080/"
        },
        "id": "Ywwi636kHqbz",
        "outputId": "bbe30048-cb17-40c5-d5b4-b7e4d570da55"
      },
      "outputs": [],
      "source": [
        "predictions = np.around(np.array(model(x_test)),3)\n",
        "print(predictions[0], y_test[0])\n",
        "print(predictions[1], y_test[1])\n",
        "print(predictions[2], y_test[2])\n",
        "print(predictions[3], y_test[3])\n",
        "print(predictions[4], y_test[4])\n",
        "print(predictions[5], y_test[5])"
      ]
    },
    {
      "cell_type": "code",
      "execution_count": null,
      "metadata": {
        "colab": {
          "base_uri": "https://localhost:8080/",
          "height": 1000
        },
        "id": "up7zTUKpLeri",
        "outputId": "0b46f734-ead8-4488-a4a8-b404f421ae6e"
      },
      "outputs": [],
      "source": [
        "predictions_class = np.argmax(predictions, axis=1)\n",
        "print(predictions_class)\n",
        "\n",
        "count_errors = 0\n",
        "for i in range(len(predictions_class)):\n",
        "  if predictions_class[i]!=y_test[i]:\n",
        "    count_errors+=1\n",
        "    if count_errors<15:\n",
        "      print(predictions[i], y_test[i])\n",
        "      plt.imshow(x_test[i])\n",
        "      plt.title(\"id: \" + str(i) + \" - prediction: \" + str(predictions_class[i]) + \" - real: \" + str(y_test[i]))\n",
        "      plt.axis(\"off\")\n",
        "      plt.show()\n",
        "\n",
        "accuracy = (len(predictions_class)-count_errors)/len(predictions_class)\n",
        "print(\"correct: \", len(predictions_class)-count_errors)\n",
        "print(\"errors: \", count_errors)\n",
        "print(\"accuracy: \", accuracy)"
      ]
    },
    {
      "cell_type": "code",
      "execution_count": null,
      "metadata": {},
      "outputs": [],
      "source": [
        "confusion_matrix = metrics.confusion_matrix(y_test, predictions_class)\n",
        "\n",
        "cm_display = metrics.ConfusionMatrixDisplay(confusion_matrix = confusion_matrix, display_labels = [0, 1, 2, 3, 4, 5, 6, 7, 8, 9])\n",
        "\n",
        "cm_display.plot()\n",
        "plt.title(\"Confusion matrix\")\n",
        "plt.show()"
      ]
    },
    {
      "cell_type": "markdown",
      "metadata": {},
      "source": [
        "EX. 2.2: MULTICLASS CLASSIFICATION\n",
        "\n",
        "Increase the complexity of the network"
      ]
    },
    {
      "cell_type": "code",
      "execution_count": null,
      "metadata": {
        "id": "dOPz2CsM4m7x"
      },
      "outputs": [],
      "source": [
        "# Keras model\n",
        "model_2 = tf.keras.models.Sequential([     # to complete (here try to use softmax as last activation function)\n",
        "\n",
        "])"
      ]
    },
    {
      "cell_type": "code",
      "execution_count": null,
      "metadata": {
        "colab": {
          "base_uri": "https://localhost:8080/"
        },
        "id": "igBwPS9x-6gZ",
        "outputId": "74e3f98d-4cd2-45a0-c9bf-91fedd6ecbee"
      },
      "outputs": [],
      "source": [
        "model_2.summary()\n",
        "\n",
        "model_2.compile(\n",
        " optimizer=tf.keras.optimizers.Adam(learning_rate=0.001),\n",
        " loss = ,      # to complete\n",
        " metrics=['accuracy'])\n",
        "\n",
        "model_2.fit(x_t, y_t, validation_data=(x_val, y_val), epochs=5)"
      ]
    },
    {
      "cell_type": "markdown",
      "metadata": {},
      "source": [
        "Evaluate performances on test set"
      ]
    },
    {
      "cell_type": "code",
      "execution_count": null,
      "metadata": {
        "colab": {
          "base_uri": "https://localhost:8080/"
        },
        "id": "Mpjb_wnQeZH1",
        "outputId": "2e93646a-af0d-4303-c208-fead66f74f28"
      },
      "outputs": [],
      "source": [
        "model_2.evaluate(x_test, y_test)"
      ]
    },
    {
      "cell_type": "markdown",
      "metadata": {},
      "source": [
        "Evaluate output of the model [probability of belonging to each class] and real label on some test images"
      ]
    },
    {
      "cell_type": "code",
      "execution_count": null,
      "metadata": {
        "colab": {
          "base_uri": "https://localhost:8080/"
        },
        "id": "6tuLeKe8lCGy",
        "outputId": "1447c8d8-c745-4c29-c619-b1b34f37c454"
      },
      "outputs": [],
      "source": [
        "predictions = np.around(np.array(model_2(x_test)),3)\n",
        "print(predictions[0], y_test[0])\n",
        "print(predictions[1], y_test[1])\n",
        "print(predictions[2], y_test[2])\n",
        "print(predictions[3], y_test[3])\n",
        "print(predictions[4], y_test[4])\n",
        "print(predictions[5], y_test[5])"
      ]
    },
    {
      "cell_type": "code",
      "execution_count": null,
      "metadata": {
        "colab": {
          "base_uri": "https://localhost:8080/",
          "height": 1000
        },
        "id": "hyxDW8nqlydz",
        "outputId": "0e706113-012f-417c-fbd4-e8099a942e54"
      },
      "outputs": [],
      "source": [
        "predictions_class_2 = np.argmax(predictions, axis=1)\n",
        "print(predictions_class_2)\n",
        "\n",
        "count_errors = 0\n",
        "for i in range(len(predictions_class_2)):\n",
        "  if predictions_class_2[i]!=y_test[i]:\n",
        "    count_errors+=1\n",
        "    if count_errors<15:\n",
        "      plt.imshow(x_test[i])\n",
        "      plt.title(\"id: \" + str(i) + \" - prediction: \" + str(predictions_class_2[i]) + \" - real: \" + str(y_test[i]))\n",
        "      print(predictions[i], y_test[i])\n",
        "      plt.axis(\"off\")\n",
        "      plt.show()\n",
        "\n",
        "accuracy = (len(predictions_class_2)-count_errors)/len(predictions_class_2)\n",
        "print(\"correct: \", len(predictions_class_2)-count_errors)\n",
        "print(\"errors: \", count_errors)\n",
        "print(\"accuracy: \", accuracy)"
      ]
    },
    {
      "cell_type": "code",
      "execution_count": null,
      "metadata": {},
      "outputs": [],
      "source": [
        "confusion_matrix = metrics.confusion_matrix(y_test, predictions_class_2)\n",
        "\n",
        "cm_display = metrics.ConfusionMatrixDisplay(confusion_matrix = confusion_matrix, display_labels = [0, 1, 2, 3, 4, 5, 6, 7, 8, 9])\n",
        "\n",
        "cm_display.plot()\n",
        "plt.title(\"Confusion matrix\")\n",
        "plt.show()"
      ]
    }
  ],
  "metadata": {
    "colab": {
      "provenance": []
    },
    "kernelspec": {
      "display_name": "Python 3",
      "name": "python3"
    },
    "language_info": {
      "codemirror_mode": {
        "name": "ipython",
        "version": 3
      },
      "file_extension": ".py",
      "mimetype": "text/x-python",
      "name": "python",
      "nbconvert_exporter": "python",
      "pygments_lexer": "ipython3",
      "version": "3.11.4"
    }
  },
  "nbformat": 4,
  "nbformat_minor": 0
}
